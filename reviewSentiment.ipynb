{
 "cells": [
  {
   "cell_type": "code",
   "execution_count": 2,
   "id": "00a761cd",
   "metadata": {},
   "outputs": [
    {
     "name": "stderr",
     "output_type": "stream",
     "text": [
      "[nltk_data] Downloading package punkt to /Users/ajeon/nltk_data...\n",
      "[nltk_data]   Package punkt is already up-to-date!\n",
      "[nltk_data] Downloading package stopwords to /Users/ajeon/nltk_data...\n",
      "[nltk_data]   Package stopwords is already up-to-date!\n"
     ]
    }
   ],
   "source": [
    "import numpy as np\n",
    "import pandas as pd\n",
    "import string\n",
    "import re\n",
    "\n",
    "from sklearn import svm\n",
    "from sklearn.svm import SVC\n",
    "from sklearn.linear_model import LogisticRegression\n",
    "from sklearn.neural_network import MLPClassifier\n",
    "\n",
    "from sklearn.model_selection import train_test_split\n",
    "from sklearn.model_selection import GridSearchCV\n",
    "from sklearn.model_selection import KFold\n",
    "\n",
    "import sklearn.metrics\n",
    "from sklearn.metrics import mean_squared_error\n",
    "from sklearn.metrics import log_loss\n",
    "from sklearn.metrics import roc_curve\n",
    "from sklearn.metrics import confusion_matrix\n",
    "\n",
    "from sklearn.feature_extraction.text import CountVectorizer\n",
    "from sklearn.feature_extraction.text import TfidfVectorizer\n",
    "from sklearn.feature_extraction.text import TfidfTransformer\n",
    "\n",
    "import nltk\n",
    "nltk.download('punkt')\n",
    "nltk.download('stopwords')\n",
    "from nltk.corpus import stopwords\n",
    "from nltk.tokenize import word_tokenize\n",
    "from nltk.stem.porter import PorterStemmer\n",
    "\n",
    "from matplotlib import pyplot as plt\n",
    "import seaborn as sns"
   ]
  },
  {
   "cell_type": "markdown",
   "id": "1750727e",
   "metadata": {},
   "source": [
    "## Import Dataset"
   ]
  },
  {
   "cell_type": "code",
   "execution_count": 3,
   "id": "afe318ed",
   "metadata": {},
   "outputs": [],
   "source": [
    "x_train_df = pd.read_csv('data_reviews/x_train.csv')\n",
    "x_test_df = pd.read_csv('data_reviews/x_test.csv')\n",
    "y_train_df = pd.read_csv('data_reviews/y_train.csv')\n",
    "\n",
    "tr_text_list = x_train_df['text'].values.tolist()\n",
    "te_text_list = x_test_df['text'].values.tolist()\n",
    "y_train = y_train_df['is_positive_sentiment'].values.tolist()"
   ]
  },
  {
   "cell_type": "markdown",
   "id": "28e31ef9",
   "metadata": {},
   "source": [
    "## Count Vectorizer"
   ]
  },
  {
   "cell_type": "code",
   "execution_count": 4,
   "id": "a9b82bed",
   "metadata": {},
   "outputs": [
    {
     "name": "stdout",
     "output_type": "stream",
     "text": [
      "Waste of 13 bucks.\n",
      "wast 13 buck\n"
     ]
    }
   ],
   "source": [
    "def preprocess(text):\n",
    "    # Remove punctuation and lowercase the text\n",
    "    text = text.translate(str.maketrans('', '', string.punctuation)).lower()\n",
    "    \n",
    "    # Tokenize the text\n",
    "    tokens = word_tokenize(text)\n",
    "    \n",
    "    # Remove stop words\n",
    "    stop_words = set(stopwords.words('english'))\n",
    "    tokens = [w for w in tokens if not w in stop_words]\n",
    "    \n",
    "    # Stem the words\n",
    "    stemmer = PorterStemmer()\n",
    "    tokens = [stemmer.stem(w) for w in tokens]\n",
    "    \n",
    "    # Return the preprocessed text\n",
    "    return \" \".join(tokens)\n",
    "\n",
    "print(tr_text_list[2])\n",
    "print(preprocess(tr_text_list[2]))"
   ]
  },
  {
   "cell_type": "code",
   "execution_count": 5,
   "id": "5197cfe7",
   "metadata": {},
   "outputs": [],
   "source": [
    "def temp_tokenizer(str_input):\n",
    "    words = re.sub(r\"[^A-Za-z0-9\\-]\", \" \", str_input).lower().split()\n",
    "    \n",
    "    # remove stops using nltk\n",
    "    stops = stopwords.words('english')\n",
    "    words = [w for w in words if w not in stops]\n",
    "    \n",
    "    # stem the remaining words after removing stops; \n",
    "    porter_stemmer = PorterStemmer()\n",
    "\n",
    "    words = [porter_stemmer.stem(word) for word in words]\n",
    "    \n",
    "    return words"
   ]
  },
  {
   "cell_type": "code",
   "execution_count": 6,
   "id": "259a8da9",
   "metadata": {},
   "outputs": [],
   "source": [
    "x_full = tr_text_list + te_text_list\n",
    "\n",
    "cv = CountVectorizer()\n",
    "x = cv.fit_transform(x_full)\n",
    "x_train = x.toarray()[0:2400].copy()\n",
    "x_te = x.toarray()[2400:].copy()\n",
    "\n",
    "vectorizer = TfidfVectorizer(tokenizer=temp_tokenizer)\n",
    "\n",
    "BOW = vectorizer.fit_transform(x_full)\n",
    "new_x = BOW.toarray()\n",
    "new_x_train = new_x[:len(tr_text_list)]\n",
    "new_x_te = new_x[len(tr_text_list):]"
   ]
  },
  {
   "cell_type": "code",
   "execution_count": 6,
   "id": "9f6dac20",
   "metadata": {},
   "outputs": [
    {
     "name": "stdout",
     "output_type": "stream",
     "text": [
      "[1 0 0 0 0 0 0 1 1 1 1 0 0 1 1 0 0 0 0 0 1 0 1 0 0 1 0 0 1 0 0 1 0 0 0 1 0\n",
      " 0 0 1 0 1 0 1 0 0 1 1 1 0 0 1 1 0 1 0 1 0 0 1 1 1 0 1 1 0 0 1 1 1 0 0 0 0\n",
      " 1 0 0 1 1 0 1 0 0 0 1 0 0 1 1 1 0 1 1 0 1 1 0 1 0 0 1 0 0 1 1 0 1 0 1 1 1\n",
      " 1 0 1 1 1 1 1 1 0 1 0 0 0 0 0 0 0 0 1 0 1 1 0 0 0 1 1 0 1 0 1 0 0 0 1 1 0\n",
      " 0 0 0 0 0 0 0 0 1 0 1 0 0 0 1 0 1 1 0 1 0 1 0 1 0 0 1 1 1 1 0 0 0 1 0 0 1\n",
      " 0 1 1 1 1 0 1 0 1 1 0 0 0 0 0 1 1 0 0 0 1 1 0 1 0 1 0 0 1 0 1 1 1 0 1 0 1\n",
      " 0 1 1 1 0 1 0 0 0 0 0 1 1 0 1 0 0 1 1 1 1 1 0 0 0 0 0 1 1 0 0 1 1 1 0 1 1\n",
      " 0 0 1 1 1 0 1 1 0 0 1 0 0 1 1 0 0 1 0 0 1 0 0 0 1 0 0 0 0 0 1 0 0 1 1 0 1\n",
      " 1 1 1 1 1 1 1 0 0 1 0 0 1 0 0 0 1 0 0 1 0 1 1 1 0 1 1 0 0 1 0 1 1 1 1 1 1\n",
      " 1 1 1 1 1 1 0 0 0 1 0 1 1 0 1 0 0 0 0 0 1 0 0 1 0 0 1 0 0 1 0 0 0 1 0 1 1\n",
      " 0 0 1 0 0 0 0 0 1 0 1 0 0 0 0 1 1 1 1 0 1 0 1 0 0 0 1 1 0 1 0 0 1 0 0 1 1\n",
      " 1 1 0 1 0 1 0 0 1 0 0 0 0 0 0 0 0 0 1 1 0 0 1 0 0 0 0 0 1 0 0 0 1 0 1 0 0\n",
      " 0 1 0 0 0 1 1 1 0 0 0 1 0 0 1 1 0 0 0 1 1 0 0 1 1 1 1 0 1 1 0 1 1 1 0 0 1\n",
      " 0 1 0 1 0 1 0 1 1 0 0 1 1 0 0 0 0 0 0 0 0 1 1 0 0 1 0 0 0 0 1 0 1 1 0 1 1\n",
      " 0 1 1 0 0 1 0 1 1 0 1 0 0 1 1 1 0 0 0 0 1 1 0 1 1 0 0 0 1 0 0 1 0 1 1 0 0\n",
      " 1 0 0 0 0 0 0 0 0 0 0 0 0 0 0 1 0 1 0 1 1 0 1 0 0 0 1 1 0 1 1 1 0 1 1 1 0\n",
      " 0 1 0 1 1 1 1 0]\n"
     ]
    }
   ],
   "source": [
    "model = LogisticRegression()\n",
    "model.fit(x_train, y_train)\n",
    "yproba1_test = model.predict(x_te)\n",
    "np.savetxt('yproba1_test.txt', yproba1_test)\n",
    "print(yproba1_test)"
   ]
  },
  {
   "cell_type": "code",
   "execution_count": 7,
   "id": "0f3c6200",
   "metadata": {},
   "outputs": [
    {
     "name": "stdout",
     "output_type": "stream",
     "text": [
      "2400\n",
      "(2400, 2264) (600, 2264)\n"
     ]
    }
   ],
   "source": [
    "vectorizer = TfidfVectorizer(ngram_range=(1, 2), tokenizer=temp_tokenizer, use_idf=True, min_df=2, binary=True)\n",
    "\n",
    "x_tr = []\n",
    "for text in tr_text_list:\n",
    "    sentence = preprocess(text)\n",
    "    x_tr.append(sentence)\n",
    "    \n",
    "print(len(x_tr))\n",
    "x_train = vectorizer.fit_transform(x_tr)\n",
    "\n",
    "x_te = []\n",
    "for text in te_text_list:\n",
    "    sentence = preprocess(text)\n",
    "    x_te.append(sentence)\n",
    "    \n",
    "x_test = vectorizer.transform(x_te)\n",
    "print(x_train.shape, x_test.shape)"
   ]
  },
  {
   "cell_type": "markdown",
   "id": "7959459d",
   "metadata": {},
   "source": [
    "## Logistic Regression"
   ]
  },
  {
   "cell_type": "code",
   "execution_count": 7,
   "id": "d3d1bc55",
   "metadata": {},
   "outputs": [
    {
     "name": "stdout",
     "output_type": "stream",
     "text": [
      "BEST SCORE: \n",
      "0.8029166666666667\n",
      "STANDARD DEVIATION FOR BEST SCORE:\n",
      "0.029480454918847883\n"
     ]
    },
    {
     "data": {
      "image/png": "[encoded data removed]",
      "text/plain": [
       "<Figure size 640x480 with 1 Axes>"
      ]
     },
     "metadata": {},
     "output_type": "display_data"
    }
   ],
   "source": [
    "logistic_regression = LogisticRegression(solver='liblinear')\n",
    "\n",
    "C = np.logspace(0, 6, 15)\n",
    "penalty = ['l1', 'l2']\n",
    "hyperparameters = dict(C=C, penalty=penalty)\n",
    "# Create a grid search object to evaluate the model using cross-validation\n",
    "grid_search_log = GridSearchCV(logistic_regression, hyperparameters, cv=5, verbose=0)\n",
    "\n",
    "# Fit the model to the training data\n",
    "grid_search_log.fit(x_train, y_train)\n",
    "\n",
    "pivot = pd.pivot_table(pd.DataFrame(grid_search_log.cv_results_), values='mean_test_score', index='param_C', columns='param_penalty')\n",
    "ax = sns.heatmap(pivot, cmap=sns.cubehelix_palette(as_cmap=True), cbar=False, annot=True)\n",
    "\n",
    "print(\"BEST SCORE: \")\n",
    "print(grid_search_log.best_score_)\n",
    "print(\"STANDARD DEVIATION FOR BEST SCORE:\")\n",
    "print(grid_search_log.cv_results_['std_test_score'][grid_search_log.best_index_])\n"
   ]
  },
  {
   "cell_type": "code",
   "execution_count": 8,
   "id": "d0122f0d",
   "metadata": {},
   "outputs": [
    {
     "name": "stdout",
     "output_type": "stream",
     "text": [
      "[1 0 0 0 0 0 0 1 1 1 1 0 0 1 1 0 0 0 0 0 1 0 1 0 0 1 0 0 1 0 0 1 0 0 0 1 0\n",
      " 1 0 1 0 0 0 1 0 0 1 1 1 0 0 1 1 0 1 0 1 0 0 1 1 1 0 1 1 0 0 1 1 1 0 0 0 0\n",
      " 1 0 0 1 1 0 1 0 0 0 1 0 0 1 1 1 0 1 1 0 1 1 0 1 0 0 1 0 0 1 1 0 1 0 1 1 1\n",
      " 1 1 1 1 1 1 1 1 0 1 0 0 0 0 0 0 0 0 1 0 1 1 0 0 0 1 1 0 1 0 1 0 0 0 1 1 0\n",
      " 0 0 0 0 0 0 0 0 1 0 1 0 0 0 1 0 1 1 0 1 0 1 0 1 0 0 1 1 1 1 0 0 0 1 0 0 1\n",
      " 0 1 1 1 1 0 0 0 1 1 0 0 0 0 0 1 1 0 0 0 1 1 0 0 0 1 1 0 1 0 1 1 1 0 1 0 1\n",
      " 0 1 1 1 0 1 0 0 0 0 0 1 1 0 1 0 0 1 1 1 1 1 0 0 0 0 0 1 1 0 0 1 1 1 0 1 1\n",
      " 0 0 1 1 1 0 1 1 0 0 1 0 0 1 1 0 0 1 0 0 1 0 0 0 1 0 0 0 0 0 1 0 0 1 1 0 1\n",
      " 1 1 1 1 1 1 1 0 0 1 0 0 1 0 0 0 1 0 0 1 0 1 1 1 0 1 1 0 0 1 0 1 1 1 1 1 1\n",
      " 1 1 1 1 1 1 0 0 0 1 0 1 1 0 1 0 0 0 0 0 1 0 0 1 1 0 1 0 0 1 0 0 0 0 0 1 1\n",
      " 0 0 1 0 0 0 0 0 1 0 1 0 0 0 0 1 1 1 1 0 1 0 1 0 0 0 1 1 0 1 0 0 1 0 0 1 1\n",
      " 1 1 0 1 0 1 0 0 1 0 0 0 1 0 0 0 0 0 1 1 0 0 1 0 0 0 0 0 1 0 1 0 1 0 1 0 0\n",
      " 0 1 0 1 0 1 1 1 0 0 0 1 1 0 1 1 0 0 0 1 1 0 0 1 1 1 1 0 1 1 0 1 1 1 0 0 1\n",
      " 0 1 0 1 0 1 0 1 1 1 0 1 1 0 0 0 0 0 0 0 0 1 1 0 1 1 0 0 0 0 1 0 1 1 0 1 1\n",
      " 0 1 1 0 0 1 0 1 1 0 1 0 0 1 1 1 0 0 0 0 1 1 0 1 1 0 0 0 1 0 0 1 0 1 1 0 0\n",
      " 1 0 0 0 0 0 0 0 0 0 0 1 0 0 0 1 0 1 0 1 1 0 1 1 0 0 1 1 0 1 1 1 0 1 1 1 0\n",
      " 0 1 0 1 1 1 1 0]\n"
     ]
    }
   ],
   "source": [
    "yproba1_test = grid_search_log.predict(x_te)\n",
    "np.savetxt('yproba1_test_log.txt', yproba1_test)\n",
    "print(yproba1_test)"
   ]
  },
  {
   "cell_type": "markdown",
   "id": "b45fae45",
   "metadata": {},
   "source": [
    "## MLP Classifier"
   ]
  },
  {
   "cell_type": "code",
   "execution_count": null,
   "id": "380f83cc",
   "metadata": {},
   "outputs": [],
   "source": [
    "mlp = MLPClassifier()\n",
    "\n",
    "hyperparams = {\n",
    "    'hidden_layer_sizes': [(5,), (5,5), (5,10,5), (5,10,50,10,5), (5,10,50,100,50,10,5)],\n",
    "    'activation': ['identity','logistic', 'relu', 'tanh'],\n",
    "}\n",
    "\n",
    "grid_search_mlpa = GridSearchCV(mlp, hyperparams, cv=5)\n",
    "grid_search_mlpa.fit(x_train, y_train_df.values.ravel()) \n",
    "\n",
    "pivot_mlp = pd.pivot_table(pd.DataFrame(grid_search_mlpa.cv_results_), values='mean_test_score', index='param_hidden_layer_sizes', columns='param_activation')\n",
    "ax_mlp = sns.heatmap(pivot_mlp, cmap=sns.cubehelix_palette(as_cmap=True), cbar=False, annot=True)\n",
    "\n",
    "print(\"BEST SCORE: \")\n",
    "print(grid_search_mlpa.best_score_)\n",
    "print(\"STANDARD DEVIATION FOR BEST SCORE:\")\n",
    "print(grid_search_mlpa.cv_results_['std_test_score'][grid_search_mlpa.best_index_])\n"
   ]
  },
  {
   "cell_type": "code",
   "execution_count": null,
   "id": "907c3757",
   "metadata": {},
   "outputs": [],
   "source": [
    "yproba1_test = grid_search_mlpa.predict(x_test)\n",
    "np.savetxt('yproba1_test_mlpa.txt', yproba1_test)\n",
    "print(yproba1_test)"
   ]
  },
  {
   "cell_type": "code",
   "execution_count": null,
   "id": "8213e69f",
   "metadata": {},
   "outputs": [],
   "source": [
    "mlp = MLPClassifier()\n",
    "\n",
    "hyperparams = {\n",
    "    'hidden_layer_sizes': [(5,), (5,5), (5,10,5), (5,10,50,10,5), (5,10,50,100,50,10,5)],\n",
    "    'solver': ['adam','lbfgs', 'sgd'],\n",
    "}\n",
    "\n",
    "grid_search_mlps = GridSearchCV(mlp, hyperparams, cv=5)\n",
    "grid_search_mlps.fit(x_train, y_train_df.values.ravel()) \n",
    "\n",
    "pivot_mlp = pd.pivot_table(pd.DataFrame(grid_search_mlps.cv_results_), values='mean_test_score', index='param_hidden_layer_sizes', columns='param_solver')\n",
    "ax_mlp = sns.heatmap(pivot_mlp, cmap=sns.cubehelix_palette(as_cmap=True), cbar=False, annot=True)\n",
    "\n",
    "print(\"BEST SCORE: \")\n",
    "print(grid_search_mlps.best_score_)\n",
    "print(\"STANDARD DEVIATION FOR BEST SCORE:\")\n",
    "print(grid_search_mlps.cv_results_['std_test_score'][grid_search_mlps.best_index_])"
   ]
  },
  {
   "cell_type": "code",
   "execution_count": 21,
   "id": "048f19f2",
   "metadata": {},
   "outputs": [
    {
     "name": "stdout",
     "output_type": "stream",
     "text": [
      "[1 1 0 0 1 1 0 1 1 0 0 0 1 1 1 0 0 0 0 0 1 0 0 0 0 0 0 1 1 0 0 0 1 0 0 1 0\n",
      " 0 0 1 0 1 0 1 0 0 1 0 1 0 1 1 1 0 1 0 1 0 0 1 1 0 0 1 1 0 0 0 1 1 0 1 0 1\n",
      " 1 1 0 0 1 0 0 0 0 1 1 0 0 1 0 1 0 1 0 0 1 1 0 1 0 1 1 0 0 1 1 0 1 0 1 1 1\n",
      " 1 0 1 1 1 1 1 1 1 0 1 0 0 0 0 0 0 0 1 0 1 0 0 0 1 1 0 0 1 0 0 0 0 0 0 1 0\n",
      " 0 0 0 0 0 0 0 0 1 1 1 0 0 0 0 0 0 0 0 1 1 1 0 1 0 0 1 1 0 1 0 0 0 1 0 1 1\n",
      " 1 1 1 0 1 0 0 0 1 1 0 0 0 1 0 0 1 0 0 0 1 0 1 0 0 1 0 0 1 0 0 1 1 1 1 0 1\n",
      " 0 1 1 1 0 1 0 0 0 0 0 1 1 0 1 0 0 1 1 1 1 1 1 0 0 0 0 1 1 0 1 1 1 1 0 1 1\n",
      " 0 0 1 1 1 0 1 0 0 1 1 0 0 1 1 1 0 1 0 0 0 0 1 0 1 0 0 0 1 0 0 0 0 1 1 0 1\n",
      " 0 1 1 1 1 1 1 0 0 1 0 0 1 0 0 1 1 0 1 1 0 0 1 1 0 1 0 0 0 1 0 1 1 1 0 1 1\n",
      " 1 0 1 1 1 1 0 0 0 1 0 1 1 1 1 0 0 0 0 0 1 0 0 0 0 0 1 0 0 1 0 0 0 1 0 1 1\n",
      " 0 1 1 0 0 1 0 0 1 1 1 1 0 0 0 0 1 1 1 1 0 0 0 1 0 0 0 1 0 1 0 0 1 0 0 1 1\n",
      " 1 1 1 0 1 1 0 1 1 0 0 0 0 1 0 0 1 0 1 1 1 1 1 0 0 0 1 1 1 0 0 0 1 0 1 0 1\n",
      " 1 1 0 0 0 1 0 1 0 0 1 0 0 0 1 1 0 0 0 1 1 0 0 1 1 1 1 0 1 1 0 1 1 1 1 0 1\n",
      " 1 1 1 1 0 0 0 1 1 1 0 1 1 0 0 0 0 0 1 1 0 1 1 0 1 1 0 0 1 0 1 0 1 1 0 1 1\n",
      " 0 1 1 0 0 1 1 1 0 0 0 0 1 1 1 1 0 0 0 0 1 0 0 1 1 1 0 0 1 0 1 1 1 1 1 0 1\n",
      " 1 0 0 0 0 0 0 0 0 0 0 0 0 0 0 1 1 1 1 1 1 0 1 0 0 0 0 1 1 1 1 1 0 1 1 0 0\n",
      " 1 0 0 1 1 1 1 0]\n"
     ]
    }
   ],
   "source": [
    "yproba1_test = grid_search_mlps.predict(x_test)\n",
    "np.savetxt('yproba1_test_mlps.txt', yproba1_test)\n",
    "print(yproba1_test)"
   ]
  },
  {
   "cell_type": "code",
   "execution_count": null,
   "id": "4f90344c",
   "metadata": {},
   "outputs": [],
   "source": [
    "mlp = MLPClassifier(max_iter=100)\n",
    "\n",
    "hyperparams = {\n",
    "    'hidden_layer_sizes': [(1,), (5,), (10,)],\n",
    "    'activation': ['identity', 'tanh'],\n",
    "}\n",
    "\n",
    "grid_search = GridSearchCV(mlp, hyperparams, cv=5)\n",
    "grid_search.fit(x_train, y_train_df.values.ravel()) \n",
    "\n",
    "pivot_mlp = pd.pivot_table(pd.DataFrame(grid_search.cv_results_), values='mean_test_score', index='param_hidden_layer_sizes', columns='param_activation')\n",
    "ax_mlp = sns.heatmap(pivot_mlp, cmap=sns.cubehelix_palette(as_cmap=True), cbar=False, annot=True)"
   ]
  },
  {
   "cell_type": "code",
   "execution_count": null,
   "id": "ee0127eb",
   "metadata": {},
   "outputs": [],
   "source": [
    "mlp = MLPClassifier(max_iter=100)\n",
    "\n",
    "hyperparams = {\n",
    "    'hidden_layer_sizes': [(1,), (5,), (10,)],\n",
    "    'solver': ['adam','lbfgs'],\n",
    "}\n",
    "\n",
    "grid_search = GridSearchCV(mlp, hyperparams, cv=5)\n",
    "grid_search.fit(x_train, y_train_df.values.ravel()) \n",
    "\n",
    "pivot_mlp = pd.pivot_table(pd.DataFrame(grid_search.cv_results_), values='mean_test_score', index='param_hidden_layer_sizes', columns='param_solver')\n",
    "ax_mlp = sns.heatmap(pivot_mlp, cmap=sns.cubehelix_palette(as_cmap=True), cbar=False, annot=True)"
   ]
  },
  {
   "cell_type": "code",
   "execution_count": null,
   "id": "8584242f",
   "metadata": {},
   "outputs": [],
   "source": [
    "svm = SVC(probability=True)\n",
    "\n",
    "# Define the hyperparameters to explore\n",
    "hyperparameters = {'C': [0.001, 0.01, 0.1, 1, 10, 100],\n",
    "                   'gamma': [0.001, 0.01, 0.1, 1, 10, 100, 1000],\n",
    "                   'kernel': ['linear','rbf'],\n",
    "                  }\n",
    "\n",
    "# Create a grid search object to evaluate the model using cross-validation\n",
    "grid_search_svm = GridSearchCV(svm, hyperparameters, cv=5)\n",
    "\n",
    "# Fit the model to the training data\n",
    "grid_search_svm.fit(x_train, y_train)\n",
    "\n",
    "pivot_svm = pd.pivot_table(pd.DataFrame(grid_search_svm.cv_results_), values='mean_test_score', index='param_C', columns='param_gamma')\n",
    "ax_svm = sns.heatmap(pivot_svm, cmap=sns.cubehelix_palette(as_cmap=True), cbar=False, annot=True)\n",
    "\n",
    "print(\"BEST SCORE: \")\n",
    "print(grid_search_svm.best_score_)\n",
    "print(\"STANDARD DEVIATION FOR BEST SCORE:\")\n",
    "print(grid_search_svm.cv_results_['std_test_score'][grid_search_log.best_index_])\n"
   ]
  },
  {
   "cell_type": "code",
   "execution_count": null,
   "id": "681cca5e",
   "metadata": {},
   "outputs": [],
   "source": [
    "yproba1_test = grid_search_svm.predict(x_te)\n",
    "np.savetxt('yproba1_test_svm.txt', yproba1_test)\n",
    "print(yproba1_test)"
   ]
  },
  {
   "cell_type": "code",
   "execution_count": null,
   "id": "3495ab0d",
   "metadata": {},
   "outputs": [],
   "source": []
  }
 ],
 "metadata": {
  "kernelspec": {
   "display_name": "Python 3 (ipykernel)",
   "language": "python",
   "name": "python3"
  },
  "language_info": {
   "codemirror_mode": {
    "name": "ipython",
    "version": 3
   },
   "file_extension": ".py",
   "mimetype": "text/x-python",
   "name": "python",
   "nbconvert_exporter": "python",
   "pygments_lexer": "ipython3",
   "version": "3.9.13"
  }
 },
 "nbformat": 4,
 "nbformat_minor": 5
}
